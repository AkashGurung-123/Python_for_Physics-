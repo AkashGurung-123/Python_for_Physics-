{
 "cells": [
  {
   "cell_type": "markdown",
   "id": "14ab3279",
   "metadata": {},
   "source": [
    "# Python Strings\n",
    "\n",
    "## 1. Creating Strings\n",
    "```python\n",
    "# Using single or double quotes\n",
    "string1 = 'Hello'\n",
    "string2 = \"World\"\n",
    "\n",
    "# Using triple quotes for multi-line strings\n",
    "string3 = '''This is\n",
    "a multi-line string'''\n",
    "print(string1, string2)\n",
    "print(string3)\n"
   ]
  },
  {
   "cell_type": "code",
   "execution_count": 1,
   "id": "7c0294b8",
   "metadata": {},
   "outputs": [
    {
     "name": "stdout",
     "output_type": "stream",
     "text": [
      "Hello\n",
      "World\n",
      "This is\n",
      "             a multi line string\n",
      "Hello World\n",
      "HelloHelloHello\n",
      "Hello\n",
      "World\n"
     ]
    }
   ],
   "source": [
    "string1 = 'Hello'\n",
    "string2 = 'World'\n",
    "string3 = '''This is\n",
    "             a multi line string'''\n",
    "\n",
    "print(string1)\n",
    "\n",
    "print(string2)\n",
    "\n",
    "print(string3)\n",
    "\n",
    "# Concatenation \n",
    "greeting = string1 +\" \"+ string2\n",
    "print(greeting)\n",
    "\n",
    "#Repetition\n",
    "repeat = string1 * 3\n",
    "print(repeat)\n",
    "\n",
    "# Slicing \n",
    "print(greeting[0:5])\n",
    "print(greeting[-5:])"
   ]
  },
  {
   "cell_type": "code",
   "execution_count": 2,
   "id": "bb6b111f",
   "metadata": {},
   "outputs": [
    {
     "name": "stdout",
     "output_type": "stream",
     "text": [
      "PYTHON PROGRAMMING\n",
      "python programming\n",
      "Python Programming\n",
      "Java programming\n"
     ]
    }
   ],
   "source": [
    "# String methods\n",
    "\n",
    "text = 'python programming'\n",
    "\n",
    "print(text.upper())\n",
    "print(text.lower())\n",
    "print(text.title())\n",
    "print(text.replace(\"python\",\"Java\"))"
   ]
  },
  {
   "cell_type": "code",
   "execution_count": 3,
   "id": "f91d1014",
   "metadata": {},
   "outputs": [
    {
     "name": "stdout",
     "output_type": "stream",
     "text": [
      "My name is Akash and I am 25 years old.\n",
      "My name is Akash and I am 25 years old.\n"
     ]
    }
   ],
   "source": [
    "# String Formatting\n",
    "name = 'Akash'\n",
    "age = 25\n",
    "\n",
    "# using f-strings \n",
    "print(f\"My name is {name} and I am {age} years old.\")\n",
    "\n",
    "# using format() method\n",
    "print(\"My name is {} and I am {} years old.\".format(name, age))"
   ]
  },
  {
   "cell_type": "markdown",
   "id": "5003727b",
   "metadata": {},
   "source": [
    "# Python Lists\n",
    "\n",
    "## 1. Creating Lists\n",
    "```python\n",
    "# Empty list\n",
    "my_list = []\n",
    "\n",
    "# List with values\n",
    "numbers = [1, 2, 3, 4, 5]\n",
    "mixed_list = [10, \"Python\", 3.14, True]\n",
    "\n",
    "print(numbers)  # Output: [1, 2, 3, 4, 5]\n",
    "print(mixed_list)  # Output: [10, 'Python', 3.14, True]\n"
   ]
  },
  {
   "cell_type": "code",
   "execution_count": 4,
   "id": "b4f3fa89",
   "metadata": {},
   "outputs": [
    {
     "name": "stdout",
     "output_type": "stream",
     "text": [
      "[1, 2, 3, 4, 5]\n",
      "[10, 'Python', 3.14, True]\n"
     ]
    }
   ],
   "source": [
    "numbers = [1, 2, 3, 4, 5]\n",
    "mixed_list = [10, \"Python\", 3.14, True]\n",
    "\n",
    "print(numbers)\n",
    "print(mixed_list)"
   ]
  },
  {
   "cell_type": "markdown",
   "id": "873d1907",
   "metadata": {},
   "source": [
    "### Accesing Elements "
   ]
  },
  {
   "cell_type": "code",
   "execution_count": 5,
   "id": "3038adb0",
   "metadata": {},
   "outputs": [
    {
     "name": "stdout",
     "output_type": "stream",
     "text": [
      "1\n",
      "5\n",
      "[2, 3, 4]\n",
      "[1, 2, 3]\n"
     ]
    }
   ],
   "source": [
    "# Using index (0-based)\n",
    "print(numbers[0])  \n",
    "print(numbers[-1]) \n",
    "\n",
    "# Slicing\n",
    "print(numbers[1:4])\n",
    "print(numbers[:3]) \n"
   ]
  },
  {
   "cell_type": "markdown",
   "id": "f825d7b9",
   "metadata": {},
   "source": [
    "### Modifying Lists "
   ]
  },
  {
   "cell_type": "code",
   "execution_count": 6,
   "id": "93617ee5",
   "metadata": {},
   "outputs": [
    {
     "name": "stdout",
     "output_type": "stream",
     "text": [
      "[1, 2, 100, 4, 5]\n"
     ]
    }
   ],
   "source": [
    "numbers[2] = 100\n",
    "print(numbers)"
   ]
  },
  {
   "cell_type": "code",
   "execution_count": 7,
   "id": "e91d5a97",
   "metadata": {},
   "outputs": [
    {
     "name": "stdout",
     "output_type": "stream",
     "text": [
      "[1, 2, 50, 100, 4, 5, 6]\n",
      "[1, 2, 50, 4, 5, 6]\n",
      "6\n",
      "[1, 2, 50, 4, 5]\n"
     ]
    }
   ],
   "source": [
    "# Adding elements \n",
    "numbers.append(6) # Adds to the end \n",
    "numbers.insert(2,50)  # Inserts 50 at index 2\n",
    "print(numbers)\n",
    "\n",
    "# Removing elements \n",
    "numbers.remove(100)\n",
    "print(numbers)\n",
    "\n",
    "popped = numbers.pop() #Removes last element\n",
    "print(popped)\n",
    "print(numbers)\n"
   ]
  },
  {
   "cell_type": "markdown",
   "id": "2de59bf6",
   "metadata": {},
   "source": [
    "### LIst Operations "
   ]
  },
  {
   "cell_type": "code",
   "execution_count": 8,
   "id": "6a547841",
   "metadata": {},
   "outputs": [
    {
     "name": "stdout",
     "output_type": "stream",
     "text": [
      "[1, 2, 3, 4, 5, 6]\n"
     ]
    }
   ],
   "source": [
    "#Concatenation \n",
    "list1 = [1,2,3]\n",
    "list2 = [4,5,6]\n",
    "\n",
    "combined = list1 + list2\n",
    "print(combined)"
   ]
  },
  {
   "cell_type": "code",
   "execution_count": 9,
   "id": "de7e9399",
   "metadata": {},
   "outputs": [
    {
     "name": "stdout",
     "output_type": "stream",
     "text": [
      "[1, 2, 3, 1, 2, 3]\n"
     ]
    }
   ],
   "source": [
    "#Repetition \n",
    "repeat_list = list1* 2\n",
    "print(repeat_list)"
   ]
  },
  {
   "cell_type": "markdown",
   "id": "ebc322d4",
   "metadata": {},
   "source": [
    "### List Methods"
   ]
  },
  {
   "cell_type": "code",
   "execution_count": 10,
   "id": "9c696da5",
   "metadata": {},
   "outputs": [
    {
     "name": "stdout",
     "output_type": "stream",
     "text": [
      "[1, 1, 2, 5, 7, 8, 9, 10]\n",
      "[10, 9, 8, 7, 5, 2, 1, 1]\n",
      "2\n",
      "0\n"
     ]
    }
   ],
   "source": [
    "nums = [1,1,2,10,5,8,7,9]\n",
    "\n",
    "#Sorting\n",
    "nums.sort()\n",
    "print(nums)\n",
    "\n",
    "# Reversing\n",
    "nums.reverse() # Its output is in descending due to storing the previous num value\n",
    "print(nums)\n",
    "\n",
    "# Counting occurrences\n",
    "print(nums.count(1)) # repeated values\n",
    "\n",
    "# Finding index\n",
    "print(nums.index(10)) # stores recent value"
   ]
  },
  {
   "cell_type": "markdown",
   "id": "12a38c67",
   "metadata": {},
   "source": [
    "### List Comprehension "
   ]
  },
  {
   "cell_type": "code",
   "execution_count": 11,
   "id": "59b5a570",
   "metadata": {},
   "outputs": [
    {
     "name": "stdout",
     "output_type": "stream",
     "text": [
      "[1, 4, 9, 16, 25]\n",
      "[0, 2, 4, 6, 8]\n"
     ]
    }
   ],
   "source": [
    "# Creating a list of squares \n",
    "square = [x**2 for x in range (1,6)]\n",
    "print(square)\n",
    "\n",
    "# Filtering even numbers \n",
    "evens = [x for x in range(10) if x% 2 == 0 ]\n",
    "print(evens)"
   ]
  },
  {
   "cell_type": "markdown",
   "id": "edf6ef38",
   "metadata": {},
   "source": [
    "# Python Multidimensional Lists and Tuples\n",
    "\n",
    "## 1. Multidimensional Lists\n",
    "A **multidimensional list** (or nested list) is a list that contains other lists as elements.\n",
    "\n",
    "### Creating a 2D List\n",
    "```python\n",
    "# 2D list (list of lists)\n",
    "matrix = [\n",
    "    [1, 2, 3],\n",
    "    [4, 5, 6],\n",
    "    [7, 8, 9]\n",
    "]\n",
    "\n",
    "print(matrix)\n",
    "# Output:\n",
    "# [\n",
    "#   [1, 2, 3],\n",
    "#   [4, 5, 6],\n",
    "#   [7, 8, 9]\n",
    "# ]\n"
   ]
  },
  {
   "cell_type": "markdown",
   "id": "385257ee",
   "metadata": {},
   "source": [
    "### Accessing Elements "
   ]
  },
  {
   "cell_type": "code",
   "execution_count": 12,
   "id": "9f7d69c3",
   "metadata": {},
   "outputs": [
    {
     "name": "stdout",
     "output_type": "stream",
     "text": [
      "3\n",
      "123\n",
      "456\n",
      "789\n"
     ]
    }
   ],
   "source": [
    "matrix = [\n",
    "    [1, 2, 3],\n",
    "    [4, 5, 6],\n",
    "    [7, 8, 9]\n",
    "]\n",
    "\n",
    "# Accessing row 1, coloumn 2 \n",
    "print(matrix [0][2])\n",
    "\n",
    "# Iterating through rows and columns \n",
    "for row in matrix: \n",
    "    for item in row: \n",
    "        print(item, end = \"\")\n",
    "    print()"
   ]
  },
  {
   "cell_type": "code",
   "execution_count": 13,
   "id": "00f39763",
   "metadata": {},
   "outputs": [
    {
     "name": "stdout",
     "output_type": "stream",
     "text": [
      "[[1, 2, 3], [4, 50, 6], [7, 8, 9]]\n"
     ]
    }
   ],
   "source": [
    "# Modifying 2D list \n",
    "matrix [1][1] = 50 \n",
    "print(matrix)"
   ]
  },
  {
   "cell_type": "code",
   "execution_count": 14,
   "id": "9cc18b34",
   "metadata": {},
   "outputs": [
    {
     "data": {
      "text/plain": [
       "[[0, 0, 0], [0, 0, 0], [0, 0, 0]]"
      ]
     },
     "execution_count": 14,
     "metadata": {},
     "output_type": "execute_result"
    }
   ],
   "source": [
    "# Creating a 3x3 matrix with zeros\n",
    "'''_ in the code is convention to signal that the \n",
    "variable is a placeholder and its value is irrelevant\n",
    "in the context of the code'''\n",
    "zero_matrix = [[0 for _ in range(3)] for _ in range(3)]\n",
    "zero_matrix"
   ]
  },
  {
   "cell_type": "markdown",
   "id": "25ec8cea",
   "metadata": {},
   "source": [
    "# Tuples \n",
    "They are lists that are immutable i.e. once defined, the individual elements of a tuple cannot be change. "
   ]
  },
  {
   "cell_type": "markdown",
   "id": "d4d5e209",
   "metadata": {},
   "source": [
    "### Creating Tuples "
   ]
  },
  {
   "cell_type": "code",
   "execution_count": 15,
   "id": "8f1fa16a",
   "metadata": {},
   "outputs": [
    {
     "data": {
      "text/plain": [
       "()"
      ]
     },
     "execution_count": 15,
     "metadata": {},
     "output_type": "execute_result"
    }
   ],
   "source": [
    "empty_tuple = ()\n",
    "empty_tuple"
   ]
  },
  {
   "cell_type": "code",
   "execution_count": 16,
   "id": "8757fb4c",
   "metadata": {},
   "outputs": [
    {
     "name": "stdout",
     "output_type": "stream",
     "text": [
      "(10, 20, 30, 'Python')\n"
     ]
    }
   ],
   "source": [
    "my_tuple = (10, 20, 30, 'Python')\n",
    "print(my_tuple)"
   ]
  },
  {
   "cell_type": "code",
   "execution_count": 17,
   "id": "6823eb09",
   "metadata": {},
   "outputs": [
    {
     "name": "stdout",
     "output_type": "stream",
     "text": [
      "20\n",
      "Python\n"
     ]
    }
   ],
   "source": [
    "# Accessing tuple \n",
    "print(my_tuple[1])\n",
    "print(my_tuple[-1])"
   ]
  },
  {
   "cell_type": "code",
   "execution_count": 18,
   "id": "858bc5f3",
   "metadata": {},
   "outputs": [
    {
     "name": "stdout",
     "output_type": "stream",
     "text": [
      "10 20 30 Python\n"
     ]
    }
   ],
   "source": [
    "# Unpacking Tuple \n",
    "a,b,c,d = my_tuple \n",
    "print(a,b,c,d)"
   ]
  },
  {
   "cell_type": "code",
   "execution_count": 19,
   "id": "27c832da",
   "metadata": {},
   "outputs": [
    {
     "ename": "TypeError",
     "evalue": "'tuple' object does not support item assignment",
     "output_type": "error",
     "traceback": [
      "\u001b[0;31m---------------------------------------------------------------------------\u001b[0m",
      "\u001b[0;31mTypeError\u001b[0m                                 Traceback (most recent call last)",
      "\u001b[0;32m/tmp/ipykernel_34398/2356318161.py\u001b[0m in \u001b[0;36m<module>\u001b[0;34m\u001b[0m\n\u001b[1;32m      1\u001b[0m \u001b[0;31m# Immutable Property of Tuples\u001b[0m\u001b[0;34m\u001b[0m\u001b[0;34m\u001b[0m\u001b[0m\n\u001b[0;32m----> 2\u001b[0;31m \u001b[0mmy_tuple\u001b[0m\u001b[0;34m[\u001b[0m\u001b[0;36m1\u001b[0m\u001b[0;34m]\u001b[0m \u001b[0;34m=\u001b[0m \u001b[0;34m-\u001b[0m\u001b[0;36m50\u001b[0m\u001b[0;34m\u001b[0m\u001b[0;34m\u001b[0m\u001b[0m\n\u001b[0m",
      "\u001b[0;31mTypeError\u001b[0m: 'tuple' object does not support item assignment"
     ]
    }
   ],
   "source": [
    "# Immutable Property of Tuples \n",
    "my_tuple[1] = -50"
   ]
  },
  {
   "cell_type": "markdown",
   "id": "06c99bd8",
   "metadata": {},
   "source": [
    "## Nested Tuples "
   ]
  },
  {
   "cell_type": "code",
   "execution_count": null,
   "id": "d3b0da7c",
   "metadata": {},
   "outputs": [],
   "source": [
    "nested_tuple = (\n",
    "    (1,2,3),\n",
    "    (4,5,6),\n",
    "    (7,8,9)\n",
    ")\n",
    "print(nested_tuple[1][1])"
   ]
  },
  {
   "cell_type": "code",
   "execution_count": null,
   "id": "6041b061",
   "metadata": {},
   "outputs": [],
   "source": [
    "# Tuple Methods \n",
    "\n",
    "numbers = (1,3,4,6,2,2)\n",
    "print(numbers.count(2))\n",
    "print(numbers.index(2)) # Finds the first occurence of 2"
   ]
  },
  {
   "cell_type": "markdown",
   "id": "c4cc4dbd",
   "metadata": {},
   "source": [
    "# NumPy Arrays in Python\n",
    "\n",
    "NumPy is a powerful library for numerical computing in Python. It provides the `ndarray` object, which is more efficient than Python lists for numerical operations.\n",
    "\n",
    "## 1. Installing NumPy\n",
    "Before using NumPy, install it using:\n",
    "```bash\n",
    "pip install numpy\n"
   ]
  },
  {
   "cell_type": "markdown",
   "id": "cbaaca1e",
   "metadata": {},
   "source": [
    "## Importing numpy "
   ]
  },
  {
   "cell_type": "code",
   "execution_count": null,
   "id": "caa681ac",
   "metadata": {},
   "outputs": [],
   "source": [
    "import numpy as np"
   ]
  },
  {
   "cell_type": "markdown",
   "id": "c68399c7",
   "metadata": {},
   "source": [
    "### Creating Numpy arrays "
   ]
  },
  {
   "cell_type": "code",
   "execution_count": null,
   "id": "692e6551",
   "metadata": {},
   "outputs": [],
   "source": [
    "arr1 = np.array([1,2,3,4,5])\n",
    "\n",
    "arr2 = np.array([[2,4],[5,6]])\n",
    "\n",
    "print(arr1)\n",
    "print(arr2)"
   ]
  },
  {
   "cell_type": "markdown",
   "id": "9245a535",
   "metadata": {},
   "source": [
    "### Creating arrays with zeros, ones and Random Numbers "
   ]
  },
  {
   "cell_type": "code",
   "execution_count": null,
   "id": "c41d9cc3",
   "metadata": {},
   "outputs": [],
   "source": [
    "zeros = np.zeros((3,3))\n",
    "\n",
    "ones = np.ones((2,2))\n",
    "\n",
    "randoms = np.random.randn(3,3)\n",
    "\n",
    "print(zeros)\n",
    "print(ones)\n",
    "print(randoms)"
   ]
  },
  {
   "cell_type": "code",
   "execution_count": null,
   "id": "9f49e05b",
   "metadata": {},
   "outputs": [],
   "source": [
    "arr = np.array([[10, 20, 30], [40, 50, 60]])\n",
    "\n",
    "# Accessing elements \n",
    "print(arr[0,1])\n",
    "\n",
    "# Slicing \n",
    "print(arr[:,1])\n",
    "print(arr[1, :])\n",
    "print(arr[0, :])\n",
    "\n",
    "# Modifying elements \n",
    "arr[1,1] = 99\n",
    "print(arr)"
   ]
  },
  {
   "cell_type": "markdown",
   "id": "7a3e03e3",
   "metadata": {},
   "source": [
    "### Array Operations "
   ]
  },
  {
   "cell_type": "code",
   "execution_count": null,
   "id": "f1f8bbfc",
   "metadata": {},
   "outputs": [],
   "source": [
    "arr1 = np.array([1,2,3])\n",
    "arr2 = np.array([4,5,6])\n",
    "\n",
    "# Element-wise operations \n",
    "sum_arr = arr1 + arr2\n",
    "prod_arr = arr1 * arr2 \n",
    "print(sum_arr)\n",
    "print(prod_arr)\n",
    "\n",
    "# Scalar operations \n",
    "double = arr1 * 2\n",
    "print(arr1, double)\n",
    "\n",
    "# Matrix Multiplication \n",
    "np.dot(arr1, arr2)"
   ]
  },
  {
   "cell_type": "markdown",
   "id": "4ad23f4c",
   "metadata": {},
   "source": [
    "## Using Numpy Functions"
   ]
  },
  {
   "cell_type": "code",
   "execution_count": null,
   "id": "7a1173b8",
   "metadata": {},
   "outputs": [],
   "source": [
    "arr = np.array([[1,2,3], [4,5,6]])\n",
    "\n",
    "print(np.sum(arr))\n",
    "print(np.mean(arr))\n",
    "print(np.max(arr))\n",
    "print(np.min(arr))\n",
    "print(np.transpose(arr))"
   ]
  },
  {
   "cell_type": "markdown",
   "id": "b079653b",
   "metadata": {},
   "source": [
    "### Reshaping and Flattening Arrays "
   ]
  },
  {
   "cell_type": "code",
   "execution_count": null,
   "id": "591dbc78",
   "metadata": {},
   "outputs": [],
   "source": [
    "arr = np.array([[1,2,3], [4,5,6]])\n",
    "\n",
    "# Reshaping \n",
    "reshaped = arr.reshape(3,2)\n",
    "print(reshaped)\n",
    "\n",
    "# Flattening(Converting to 1D)\n",
    "flattened = arr.flatten()\n",
    "print(flattened)"
   ]
  },
  {
   "cell_type": "markdown",
   "id": "95b97d30",
   "metadata": {},
   "source": [
    "### Stacking and Splitting Arrays"
   ]
  },
  {
   "cell_type": "code",
   "execution_count": null,
   "id": "75356796",
   "metadata": {},
   "outputs": [],
   "source": [
    "arr1 = np.array([1,2,3])\n",
    "arr2 = np.array([4,5,6])\n",
    "\n",
    "# Stacking \n",
    "vertical_stack = np.vstack((arr1, arr2))\n",
    "horizontal_stack = np.hstack((arr1, arr2))\n",
    "\n",
    "print(vertical_stack)\n",
    "print(horizontal_stack)\n",
    "\n",
    "# Splitting \n",
    "split_arr = np.split(arr1, 3)\n",
    "print(split_arr)"
   ]
  },
  {
   "cell_type": "markdown",
   "id": "f7260bc8",
   "metadata": {},
   "source": [
    "# Boolean Masks in NumPy\n",
    "\n",
    "A **Boolean mask** in NumPy is an array of `True` and `False` values that can be used to filter elements from another array."
   ]
  },
  {
   "cell_type": "code",
   "execution_count": null,
   "id": "7d0bacf8",
   "metadata": {},
   "outputs": [],
   "source": [
    "arr = np.array([5, 15, 25, 35, 45])\n",
    "\n",
    "#Elements greater tahn 20\n",
    "mask1 = arr>20 \n",
    "print(mask1)\n",
    "print(arr[mask1])\n",
    "\n",
    "#Elements that are even\n",
    "mask2 = arr%2 == 0\n",
    "print(mask2)\n",
    "\n",
    "# Combining multiple conditions\n",
    "mask3 = (arr>10) & (arr<40)\n",
    "print(arr[mask3])"
   ]
  },
  {
   "cell_type": "markdown",
   "id": "bc0ad0f9",
   "metadata": {},
   "source": [
    "### Boolean Masking of 2D Arrays "
   ]
  },
  {
   "cell_type": "code",
   "execution_count": null,
   "id": "39553edf",
   "metadata": {},
   "outputs": [],
   "source": [
    "matrix = np.array(\n",
    "    [\n",
    "        [10, 20, 30],\n",
    "        [40, 50, 60],\n",
    "        [70, 80, 90]\n",
    "    ]\n",
    ")\n",
    "print(matrix )"
   ]
  },
  {
   "cell_type": "code",
   "execution_count": null,
   "id": "95e5f607",
   "metadata": {},
   "outputs": [],
   "source": [
    "# Masking elements greater than 35\n",
    "mask = matrix>35\n",
    "print(mask)\n",
    "print(matrix[mask])"
   ]
  },
  {
   "cell_type": "code",
   "execution_count": null,
   "id": "c41380e6",
   "metadata": {},
   "outputs": [],
   "source": [
    "# Filtering elements \n",
    "filtered = matrix[mask]\n",
    "print(filtered)"
   ]
  },
  {
   "cell_type": "markdown",
   "id": "38352fed",
   "metadata": {},
   "source": [
    "### Replacing Values Using Boolean Masks "
   ]
  },
  {
   "cell_type": "code",
   "execution_count": null,
   "id": "b952eab8",
   "metadata": {},
   "outputs": [],
   "source": [
    "arr = np.array([3,7, 15, 22, 36])\n",
    "\n",
    "# Replace all numbers greater than 10 with -1\n",
    "arr[arr>10] = -1\n",
    "print(arr)"
   ]
  },
  {
   "cell_type": "markdown",
   "id": "b95fde54",
   "metadata": {},
   "source": [
    "### Counting and Extracting with Boolean Masks"
   ]
  },
  {
   "cell_type": "code",
   "execution_count": null,
   "id": "0f8a9cf7",
   "metadata": {},
   "outputs": [],
   "source": [
    "arr = np.array([2,4,6,8,10,12,14])\n",
    " \n",
    "# Count elements that satisfy a condition \n",
    "count = np.sum(arr > 6)\n",
    "print(count)\n",
    "\n",
    "# Getting indice where condition is met \n",
    "indices = np.where(arr>6)\n",
    "print(indices)"
   ]
  },
  {
   "cell_type": "markdown",
   "id": "bb5e09aa",
   "metadata": {},
   "source": [
    "# Python Dictionaries\n",
    "\n",
    "A **dictionary** in Python is an unordered, mutable collection of key-value pairs. It is defined using `{}` or the `dict()` constructor.\n",
    "\n",
    "---\n",
    "\n",
    "## 1. Creating a Dictionary\n",
    "```python\n",
    "# Using curly braces {}\n",
    "student = {\n",
    "    \"name\": \"Alice\",\n",
    "    \"age\": 22,\n",
    "    \"major\": \"Physics\"\n",
    "}\n",
    "\n",
    "# Using dict() constructor\n",
    "student2 = dict(name=\"Bob\", age=23, major=\"Math\")\n",
    "\n",
    "print(student)\n",
    "print(student2)\n"
   ]
  },
  {
   "cell_type": "code",
   "execution_count": null,
   "id": "86154783",
   "metadata": {},
   "outputs": [],
   "source": [
    "student = {\n",
    "    \"name\": \"Sam\",\n",
    "    \"age\": 22,\n",
    "    \"major\": \"Physics\"\n",
    "}\n",
    "print(student)"
   ]
  },
  {
   "cell_type": "markdown",
   "id": "2c316384",
   "metadata": {},
   "source": [
    "### Accessing Dictionary Values "
   ]
  },
  {
   "cell_type": "code",
   "execution_count": null,
   "id": "bfb2a421",
   "metadata": {},
   "outputs": [],
   "source": [
    "print(student[\"name\"])\n",
    "print(student.get(\"age\"))\n",
    "\n",
    "# Using get() with a default value \n",
    "print(student.get(\"grade\", \"Not Available\"))\n",
    "print(student)"
   ]
  },
  {
   "cell_type": "markdown",
   "id": "cac6e694",
   "metadata": {},
   "source": [
    "### Modifying a Dictionary "
   ]
  },
  {
   "cell_type": "code",
   "execution_count": null,
   "id": "e33c9c23",
   "metadata": {},
   "outputs": [],
   "source": [
    "student[\"age\"] = 30\n",
    "student[\"grade\"] = \"A\"\n",
    "print(student)"
   ]
  },
  {
   "cell_type": "markdown",
   "id": "0c7336e6",
   "metadata": {},
   "source": [
    "### Removing Items "
   ]
  },
  {
   "cell_type": "code",
   "execution_count": null,
   "id": "f347dbe1",
   "metadata": {},
   "outputs": [],
   "source": [
    "del student[\"grade\"] # Remove a key\n",
    "print(student)\n",
    "\n",
    "removed_value = student.pop('major') # Remove and return value \n",
    "print(removed_value)"
   ]
  },
  {
   "cell_type": "markdown",
   "id": "6511dca2",
   "metadata": {},
   "source": [
    "### Dictionary Methods "
   ]
  },
  {
   "cell_type": "code",
   "execution_count": null,
   "id": "f61a0d66",
   "metadata": {},
   "outputs": [],
   "source": [
    "print(student.keys())\n",
    "print(student.values())\n",
    "print(student.items())"
   ]
  },
  {
   "cell_type": "markdown",
   "id": "6656ccef",
   "metadata": {},
   "source": [
    "### Iterating Over a Dictionary "
   ]
  },
  {
   "cell_type": "code",
   "execution_count": null,
   "id": "a9c41330",
   "metadata": {},
   "outputs": [],
   "source": [
    "for key, value in student.items(): \n",
    "    print(f\"{key}: {value}\")"
   ]
  },
  {
   "cell_type": "markdown",
   "id": "c5240f61",
   "metadata": {},
   "source": [
    "### Nested Dictionaries"
   ]
  },
  {
   "cell_type": "code",
   "execution_count": null,
   "id": "bc614439",
   "metadata": {},
   "outputs": [],
   "source": [
    "students = {\n",
    "    \"Alice\": {\"age\": 22, \"major\": \"Physics\"},\n",
    "    \"Bob\": {\"age\": 23, \"major\": \"Math\"}\n",
    "}\n",
    "\n",
    "print(students[\"Alice\"][\"major\"])  # Output: Physics\n"
   ]
  },
  {
   "cell_type": "markdown",
   "id": "b78c113c",
   "metadata": {},
   "source": [
    "### Dictionary Comprehension "
   ]
  },
  {
   "cell_type": "code",
   "execution_count": null,
   "id": "d3351ce1",
   "metadata": {},
   "outputs": [],
   "source": [
    "# Creating a dictionary with squares of numbers\n",
    "squares = {x: x**2 for x in range(1, 6)}\n",
    "print(squares)"
   ]
  },
  {
   "cell_type": "markdown",
   "id": "06af5088",
   "metadata": {},
   "source": [
    "# Objects in Python\n",
    "\n",
    "Everything in Python is an **object**, including numbers, strings, lists, and even functions. Objects are instances of **classes**, which define their structure and behavior.\n",
    "\n",
    "---\n",
    "\n",
    "## 1. Creating a Class and Object\n",
    "```python\n",
    "class Student:\n",
    "    def __init__(self, name, age, major):\n",
    "        self.name = name  # Instance variable\n",
    "        self.age = age\n",
    "        self.major = major\n",
    "\n",
    "# Creating an object (instance of Student)\n",
    "student1 = Student(\"Alice\", 22, \"Physics\")\n",
    "\n",
    "print(student1.name)  # Output: Alice\n",
    "print(student1.age)   # Output: 22\n",
    "print(student1.major) # Output: Physics\n"
   ]
  },
  {
   "cell_type": "markdown",
   "id": "fde21e26",
   "metadata": {},
   "source": [
    "### Adding Methods to a Class"
   ]
  },
  {
   "cell_type": "code",
   "execution_count": null,
   "id": "75f7ad6b",
   "metadata": {},
   "outputs": [],
   "source": [
    "class Student:\n",
    "    def __init__(self, name, age):\n",
    "        self.name = name\n",
    "        self.age = age\n",
    "\n",
    "    def greet(self):\n",
    "        return f\"Hello, my name is {self.name} and I am {self.age} years old.\"\n",
    "\n",
    "student2 = Student(\"Bob\", 23)\n",
    "print(student2.greet())  # Output: Hello, my name is Bob and I am 23 years old.\n"
   ]
  },
  {
   "cell_type": "markdown",
   "id": "be09217a",
   "metadata": {},
   "source": [
    "### Modifying Object Attributes "
   ]
  },
  {
   "cell_type": "code",
   "execution_count": null,
   "id": "e3c51270",
   "metadata": {},
   "outputs": [],
   "source": [
    "student2.age = 24\n",
    "print(student2.age)"
   ]
  },
  {
   "cell_type": "markdown",
   "id": "b618b0a6",
   "metadata": {},
   "source": [
    "### Class vs Instance Variables "
   ]
  },
  {
   "cell_type": "code",
   "execution_count": null,
   "id": "fee92d32",
   "metadata": {},
   "outputs": [],
   "source": [
    "class University:\n",
    "    university_name = \"XYZ University\"  \n",
    "\n",
    "    def __init__(self, student_name):\n",
    "        self.student_name = student_name  \n",
    "\n",
    "student3 = University(\"Charlie\")\n",
    "student4 = University(\"Diana\")\n",
    "\n",
    "print(student3.university_name)  \n",
    "print(student4.university_name)  \n",
    "\n",
    "# Changing class variable\n",
    "University.university_name = \"ABC University\"\n",
    "\n",
    "print(student3.university_name) \n"
   ]
  },
  {
   "cell_type": "markdown",
   "id": "d910da58",
   "metadata": {},
   "source": [
    "### Inheritance (Creating Subclasses) "
   ]
  },
  {
   "cell_type": "code",
   "execution_count": null,
   "id": "aa04ee3f",
   "metadata": {},
   "outputs": [],
   "source": [
    "class Person: \n",
    "    def __init__(self, name):\n",
    "        self.name = name\n",
    "    def speak(self):\n",
    "        return f\"My name is {self.name}.\"\n",
    "\n",
    "#Inheriting from Person Class\n",
    "class Student(Person):\n",
    "    def __init__(self, name, major):\n",
    "        super().__init__(name)\n",
    "        self.major = major\n",
    "\n",
    "student5 = Student(\"Akash\", \"Mathematics\")\n",
    "print(student5.speak())\n",
    "print(student5.major)"
   ]
  },
  {
   "cell_type": "markdown",
   "id": "9d1b5d6b",
   "metadata": {},
   "source": [
    "### Polymorphism (Method Overriding) "
   ]
  },
  {
   "cell_type": "code",
   "execution_count": null,
   "id": "ac0d4bd8",
   "metadata": {},
   "outputs": [],
   "source": [
    "class Animal:\n",
    "    def make_sound(self):\n",
    "        return \"Some sound\"\n",
    "\n",
    "class Dog(Animal):\n",
    "    def make_sound(self):\n",
    "        return \"Bark\"\n",
    "\n",
    "dog = Dog()\n",
    "print(dog.make_sound()) "
   ]
  },
  {
   "cell_type": "markdown",
   "id": "46e73338",
   "metadata": {},
   "source": [
    "# 🚀 Physics-Based Python Exercises  \n",
    "\n",
    "---\n",
    "\n",
    "## **1. Lists & Tuples: Kinematic Equations**  \n",
    "The **final velocity** of an object can be calculated using the kinematic equation:  \n",
    "$$\n",
    "v_f = v_i + a t\n",
    "$$  \n",
    "where:  \n",
    "- $v_i$  = initial velocity (m/s)  \n",
    "- $a$ = acceleration (m/s²)  \n",
    "- $t$ = time (s)  \n",
    "\n",
    "### **Task:**  \n",
    "- Store different sets of **($v_i, a, t$)** values in a **list of tuples**.  \n",
    "- Loop through the list and calculate $v_f$  for each set.  \n",
    "\n",
    "---"
   ]
  },
  {
   "cell_type": "code",
   "execution_count": null,
   "id": "2a5c00e6",
   "metadata": {},
   "outputs": [],
   "source": []
  },
  {
   "cell_type": "markdown",
   "id": "2beda3c1",
   "metadata": {},
   "source": [
    "## **2. Dictionaries: Energy Calculation**  \n",
    "The **kinetic energy** of an object is given by:  \n",
    "$$\n",
    "KE = \\frac{1}{2} m v^2\n",
    "$$  \n",
    "\n",
    "### **Task:**  \n",
    "- Create a **dictionary** where keys are object names (`\"car\"`, `\"ball\"`, etc.) and values are `(mass, velocity)`.  \n",
    "- Compute and store kinetic energy for each object.  \n",
    "\n",
    "---"
   ]
  },
  {
   "cell_type": "code",
   "execution_count": null,
   "id": "4094c1cd",
   "metadata": {},
   "outputs": [],
   "source": []
  },
  {
   "cell_type": "markdown",
   "id": "529f431b",
   "metadata": {},
   "source": [
    "## **3. NumPy Arrays: Free-Fall Motion**  \n",
    "The equation for an object's **position in free-fall** is:  \n",
    "$$\n",
    "y = y_0 + v_i t + \\frac{1}{2} g t^2\n",
    "$$  \n",
    "\n",
    "### **Task:**  \n",
    "- Use a **NumPy array** to generate `t` values from 0 to 10 seconds.  \n",
    "- Calculate and plot the position **$y(t)$** assuming:  \n",
    "  - $ y_0 = 100m $  \n",
    "  - $ v_i = 0m/s $ \n",
    "  - $ g = 9.8m/s²$  \n",
    "\n",
    "---"
   ]
  },
  {
   "cell_type": "code",
   "execution_count": null,
   "id": "83a2ac2f",
   "metadata": {},
   "outputs": [],
   "source": []
  },
  {
   "cell_type": "markdown",
   "id": "1523c053",
   "metadata": {},
   "source": [
    "## **4. Boolean Masks: Filtering Velocities**  \n",
    "Given a **NumPy array** of velocities, filter out only those greater than 10 m/s.  \n",
    "\n",
    "### **Task:**  \n",
    "- Create a velocity array.  \n",
    "- Use a **Boolean mask** to filter and display only velocities > 10 m/s.  \n",
    "\n",
    "---\n"
   ]
  },
  {
   "cell_type": "code",
   "execution_count": null,
   "id": "5e72e9f5",
   "metadata": {},
   "outputs": [],
   "source": []
  },
  {
   "cell_type": "markdown",
   "id": "e88828ba",
   "metadata": {},
   "source": [
    "## **5. Objects & Classes: Planetary Motion**  \n",
    "Create a `Planet` class that stores:  \n",
    "- **Name**  \n",
    "- **Mass (kg)**  \n",
    "- **Orbital radius (m)**  \n",
    "\n",
    "### **Task:**  \n",
    "- Add a method to calculate the **gravitational force** exerted by the Sun on the planet:  \n",
    "$$\n",
    "F = \\frac{G M m}{r^2}\n",
    "$$  \n",
    "where:  \n",
    "  - $ G = 6.674 \\times 10^{-11} $ N·m²/kg² (gravitational constant)  \n",
    "  - $ M $ = Mass of the Sun ($1.989 \\times 10^{30} kg$|))  \n",
    "- Create objects for **Earth**, **Mars**, and **Jupiter** and compute the force.  \n",
    "\n",
    "---"
   ]
  },
  {
   "cell_type": "code",
   "execution_count": null,
   "id": "31a1618f",
   "metadata": {},
   "outputs": [],
   "source": []
  },
  {
   "cell_type": "markdown",
   "id": "5d69b85f",
   "metadata": {},
   "source": [
    "## **Bonus Challenge: Simulating Projectile Motion**  \n",
    "A projectile is launched with an initial velocity \\( v_0 \\) and angle \\( \\theta \\). The equations of motion are:  \n",
    "$$\n",
    "x = v_0 \\cos(\\theta) t\n",
    "$$\n",
    "$$\n",
    "y = v_0 \\sin(\\theta) t - \\frac{1}{2} g t^2\n",
    "$$  \n",
    "\n",
    "### **Task:**  \n",
    "- Take user input for $ v_0 $ and $ \\theta $ (degrees).  \n",
    "- Simulate the motion using **NumPy arrays**.  \n",
    "- Plot the projectile trajectory.  \n"
   ]
  },
  {
   "cell_type": "code",
   "execution_count": null,
   "id": "5d7d9580",
   "metadata": {},
   "outputs": [],
   "source": []
  }
 ],
 "metadata": {
  "kernelspec": {
   "display_name": "Python 3 (ipykernel)",
   "language": "python",
   "name": "python3"
  },
  "language_info": {
   "codemirror_mode": {
    "name": "ipython",
    "version": 3
   },
   "file_extension": ".py",
   "mimetype": "text/x-python",
   "name": "python",
   "nbconvert_exporter": "python",
   "pygments_lexer": "ipython3",
   "version": "3.10.12"
  }
 },
 "nbformat": 4,
 "nbformat_minor": 5
}
